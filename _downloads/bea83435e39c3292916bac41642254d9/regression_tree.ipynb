{
  "cells": [
    {
      "cell_type": "markdown",
      "metadata": {},
      "source": [
        "\n# Fuzzy Regression Tree example\n\nExample plot for :class:`FuzzyDecisionTreeRegressor` generated on synthetic data.\n"
      ]
    },
    {
      "cell_type": "code",
      "execution_count": null,
      "metadata": {
        "collapsed": false
      },
      "outputs": [],
      "source": [
        "import matplotlib.pyplot as plt\nimport numpy as np\nfrom sklearn.metrics import mean_squared_error, r2_score\nfrom sklearn.model_selection import train_test_split\n\nfrom fuzzytree._classes import FuzzyDecisionTreeRegressor\n\n\ndef generate_synthetic_data(n_samples=500, noise=0.1):\n    \"\"\"\n    Generate synthetic regression data: y = sin(x) + noise\n    \"\"\"\n    X = np.linspace(0, 10, n_samples).reshape(-1, 1)\n    y = np.sin(X).ravel() + noise * np.random.randn(n_samples)\n    return X, y\n\n\ndef test_fuzzy_regression_tree():\n    # Generate synthetic data\n    X, y = generate_synthetic_data()\n\n    # Split data into training and testing sets\n    X_train, X_test, y_train, y_test = train_test_split(\n        X, y, test_size=0.2, random_state=42\n    )\n\n    # Initialize the fuzzy regression tree\n    regressor = FuzzyDecisionTreeRegressor(\n        fuzziness=0.8,\n        criterion=\"variance\",  # Assuming 'variance' is implemented for regression\n        max_depth=5,\n        min_membership_split=0.02,\n        min_membership_leaf=0.01,\n        min_impurity_decrease=0.001,\n    )\n\n    # Fit the model\n    regressor.fit(X_train, y_train)\n\n    # Predict on the test set\n    y_pred = regressor.predict(X_test)\n\n    # Evaluate the model\n    mse = mean_squared_error(y_test, y_pred)\n    r2 = r2_score(y_test, y_pred)\n\n    # Print the results\n    print(\"Fuzzy Regression Tree Results:\")\n    print(f\"Mean Squared Error (MSE): {mse:.4f}\")\n    print(f\"R-squared (R2): {r2:.4f}\")\n\n    plt.scatter(X_test, y_test, color=\"blue\", label=\"True Values\")\n    plt.scatter(X_test, y_pred, color=\"red\", label=\"Predictions\")\n    plt.legend()\n    plt.xlabel(\"X\")\n    plt.ylabel(\"y\")\n    plt.title(\"Fuzzy Regression Tree Performance\")\n    plt.show()\n\n\nif __name__ == \"__main__\":\n    test_fuzzy_regression_tree()"
      ]
    }
  ],
  "metadata": {
    "kernelspec": {
      "display_name": "Python 3",
      "language": "python",
      "name": "python3"
    },
    "language_info": {
      "codemirror_mode": {
        "name": "ipython",
        "version": 3
      },
      "file_extension": ".py",
      "mimetype": "text/x-python",
      "name": "python",
      "nbconvert_exporter": "python",
      "pygments_lexer": "ipython3",
      "version": "3.13.2"
    }
  },
  "nbformat": 4,
  "nbformat_minor": 0
}